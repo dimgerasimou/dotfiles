{
 "cells": [
  {
   "cell_type": "markdown",
   "id": "4faf17a8",
   "metadata": {},
   "source": [
    "Τμήμα Ηλεκτρολόγων Μηχανικών και Μηχανικών Υπολογιστών  \n",
    "Αριθμητική Ανάλυση\n",
    "# Εργασία Εξαμήνου\n",
    "Ακαδημαϊκό Έτος 2025\n",
    "| Ονοματεπώνυμο | ΑΕΜ |\n",
    "|---------------|-----|\n",
    "| Γερασίμου Δημήτριος | 10813 |\n",
    "| Γιάννης Σταυριανίδης | 11065 |"
   ]
  },
  {
   "cell_type": "markdown",
   "id": "cac36a95",
   "metadata": {},
   "source": [
    "## 1. Συλλογή Δεδομένων\n",
    "\n",
    "Με τη βιβλιοθήκη yfinance λαμβάνουμε ιστορικά δεδομένα της μετοχής της Microsoft, για μία τυπική εργάσιμη εβδομάδα. Κάθε εργάσιμη μέρα περιέχει 13 σημεία ανα 30 λεπτά, από τις 09:30 μέχρι και τις 15:30, σύνολο 65 σημεία για τις 5 μέρες."
   ]
  },
  {
   "cell_type": "code",
   "execution_count": 74,
   "id": "d3218c98",
   "metadata": {},
   "outputs": [
    {
     "data": {
      "text/markdown": [
       "**First 5 Values:**\n",
       "\n",
       "|    |   Stock Value |\n",
       "|---:|--------------:|\n",
       "|  0 |      445.9000 |\n",
       "|  1 |      441.0950 |\n",
       "|  2 |      443.9400 |\n",
       "|  3 |      443.8750 |\n",
       "|  4 |      443.7600 |"
      ],
      "text/plain": [
       "<IPython.core.display.Markdown object>"
      ]
     },
     "metadata": {},
     "output_type": "display_data"
    }
   ],
   "source": [
    "import yfinance as yf\n",
    "from IPython.display import Markdown, display\n",
    "import numpy as np\n",
    "import pandas as pd\n",
    "import matplotlib.pyplot as plt\n",
    "\n",
    "def get_stock_open_data(stock, start, end):\n",
    "\tyf_stock = yf.Ticker(stock)\n",
    "\tyf_hist = yf_stock.history(start=start, end=end, interval=\"30m\")\n",
    "\n",
    "\tyf_hist['Open'].to_csv('open_prices.csv', header=True)\n",
    "\treturn yf_hist['Open'].values\n",
    "\n",
    "y = get_stock_open_data(\"MSFT\", \"2025-05-12\", \"2025-05-17\")\n",
    "\n",
    "df = pd.DataFrame({\n",
    "\t\"Stock Value\": y\n",
    "})\n",
    "\n",
    "title = \"**First 5 Values:**\"\n",
    "md_table = df.head(5).to_markdown(index=True, floatfmt=\".4f\")\n",
    "display(Markdown(f\"{title}\\n\\n{md_table}\"))"
   ]
  },
  {
   "cell_type": "markdown",
   "id": "9a0d5c92",
   "metadata": {},
   "source": [
    "## 2. Πολυωνυμική Προσαρμογή"
   ]
  },
  {
   "cell_type": "code",
   "execution_count": 78,
   "id": "4b1f1c44",
   "metadata": {},
   "outputs": [
    {
     "data": {
      "text/markdown": [
       "**MAE and MSE for models, on train and test data:**\n",
       "\n",
       "|   Degree |   Train MAE |   Test MAE |   Train MSE |   Test MSE |\n",
       "|---------:|------------:|-----------:|------------:|-----------:|\n",
       "|        1 |      1.1788 |     5.8970 |      2.1576 |    35.7621 |\n",
       "|        2 |      1.1587 |     3.8092 |      1.9101 |    15.8579 |\n",
       "|        3 |      1.1641 |     2.9545 |      1.8999 |    10.7534 |"
      ],
      "text/plain": [
       "<IPython.core.display.Markdown object>"
      ]
     },
     "metadata": {},
     "output_type": "display_data"
    },
    {
     "data": {
      "text/markdown": [
       "**Best Fitting Model:**\n",
       "\n",
       "|   Degree |   Train MAE |   Test MAE |   Train MSE |   Test MSE |\n",
       "|---------:|------------:|-----------:|------------:|-----------:|\n",
       "|        3 |      1.1641 |     2.9545 |      1.8999 |    10.7534 |"
      ],
      "text/plain": [
       "<IPython.core.display.Markdown object>"
      ]
     },
     "metadata": {},
     "output_type": "display_data"
    }
   ],
   "source": [
    "def split_data(x, percent):\n",
    "\treturn x[:int(len(x) * percent)], x[int(len(x) * percent):]\n",
    "\n",
    "def calculate_error(model, x, y):\n",
    "\tpred = model(x)\n",
    "\tdiff = pred - y\n",
    "\n",
    "\tMAE = np.mean(np.abs(diff))\n",
    "\tMSE = np.mean(diff ** 2)\n",
    "\n",
    "\treturn MAE, MSE\n",
    "\n",
    "x = np.arange(len(y))\n",
    "\n",
    "x_train, x_test = split_data(x, 0.8)\n",
    "y_train, y_test = split_data(y, 0.8)\n",
    "\n",
    "# Polynomial degrees to test\n",
    "degrees = [1, 2, 3]\n",
    "\n",
    "# Initialize lists to store models, errors, and results\n",
    "models = []\n",
    "\n",
    "# Fit polynomial models\n",
    "for i, degree in enumerate(degrees):\n",
    "\tcoeffs = np.polyfit(x_train, y_train, degree)\n",
    "\tpoly_func = np.poly1d(coeffs)\n",
    "\tmodels.append(poly_func)\n",
    "\n",
    "# Calculate MAE and MSE\n",
    "train_MAE = np.zeros(len(models))\n",
    "test_MAE  = np.zeros(len(models))\n",
    "train_MSE = np.zeros(len(models))\n",
    "test_MSE  = np.zeros(len(models))\n",
    "\n",
    "for i in range(len(models)):\n",
    "\ttest_MAE[i], test_MSE[i] = calculate_error(models[i], x_test, y_test)\n",
    "\ttrain_MAE[i], train_MSE[i] = calculate_error(models[i], x_train, y_train)\n",
    "\n",
    "df = pd.DataFrame({\n",
    "\t\"Degree\": degrees,\n",
    "\t\"Train MAE\": train_MAE,\n",
    "\t\"Test MAE\": test_MAE,\n",
    "\t\"Train MSE\": train_MSE,\n",
    "\t\"Test MSE\": test_MSE\n",
    "})\n",
    "df[\"Degree\"] = df[\"Degree\"].astype(str)\n",
    "\n",
    "title = \"**MAE and MSE for models, on train and test data:**\"\n",
    "md_table = df.to_markdown(index=False, floatfmt=\".4f\")\n",
    "display(Markdown(f\"{title}\\n\\n{md_table}\"))\n",
    "\n",
    "best_idx = np.argmin(test_MAE)\n",
    "best_model = models[best_idx]\n",
    "\n",
    "df = pd.DataFrame({\n",
    "\t\"Degree\": [degrees[best_idx]],\n",
    "\t\"Train MAE\": [train_MAE[best_idx]],\n",
    "\t\"Test MAE\": [test_MAE[best_idx]],\n",
    "\t\"Train MSE\": [train_MSE[best_idx]],\n",
    "\t\"Test MSE\": [test_MSE[best_idx]]\n",
    "})\n",
    "df[\"Degree\"] = df[\"Degree\"].astype(str)\n",
    "\n",
    "title = \"**Best Fitting Model:**\"\n",
    "md_table = df.to_markdown(index=False, floatfmt=\".4f\")\n",
    "display(Markdown(f\"{title}\\n\\n{md_table}\"))"
   ]
  },
  {
   "cell_type": "markdown",
   "id": "0e6ab86d",
   "metadata": {},
   "source": [
    "### Υπερπροσαρμογή\n",
    "#### Γιατί τα πολυώνυμα μεγαλύτερου βαθμού παρουσιάζουν υπερπροσαρμογή;\n",
    "Επειδή ένα πολυώνυμο μεγαλύτερου βαθμού έχει μεγαλύτερη \"ευελιξία\", μπορεί ανάλογα με τα δεδομένα και τον βαθμό, να προσαρμοστεί υπερβολικά στα δεδομένα εκπαίδευσης. Αυτό σημαίνει ότι προσαρμόζεται αρκετά \"καλά\" στα δεδομένα εκπαίδευσης, αλλά δεν γενικεύει σωστά σε νέα άγνωστα δεδομένα. Επομένως, αν στα δεδομένα υπάρχει θόρυβος ή τυχαίες διακυμάνσεις, το μοντέλο προσαρμόζεται και σε αυτά, και όχι στην υποκείμενη τάση των δεδομένων.\n",
    "#### Πώς εντοπίζεται αριθμητικά και πώς περιορίζεται;\n",
    "Οι βασικές παρατηρήσεις από μοντέλο που υπερπροσαρμώστηκε είναι δραματικές διακυμάνσεις μεταξύ σημείων, κακή συμπεριφορά εκτός του training set και μικρό σφάλμα στο training set αλλά μεγάλο σφάλμα στο test set. Για να το εντοπίσεις αριθμητικά, πρέπει να συγκριθούν οι τιμές του μέσου απόλυτου σφάλματος και του μέσου τετραγωνικού σφάλματος σε testing και training set. Αν είναι μικρά στο training και πολύ μεγαλύτερα στο testing, τότε υπάρχει θέμα υπερπροσαρμογής. Άλλος δείκτης είναι αν το μέσο τετραγωνικό σφάλμα είναι σχετικά μεγάλο σε σύγκριση με πιο απλά μοντέλα.\n",
    "\n",
    "Για να περιοριστεί, είναι καλό να διαχωρίζονται τα δεδομένα σε testing και training, επιλογή του κατάλληλου βαθμού πολυωνύμου π.χ. αν ένα μοντέλο 3ου βαθμού έχει υψηλότερο MSE από αυτό 2ου βαθμού στο test set, τότε δεν αξίζει, και ιδανικά να απλοποιηθεί το μοντέλο, όσο πιο απλό είναι, τόσο το καλύτερο."
   ]
  },
  {
   "cell_type": "markdown",
   "id": "d83e6223",
   "metadata": {},
   "source": [
    "## 3. Πρόβλεψη Επόμενης Ημέρας"
   ]
  },
  {
   "cell_type": "code",
   "execution_count": 67,
   "id": "98bd994b",
   "metadata": {},
   "outputs": [
    {
     "data": {
      "image/png": "[encoded data removed]",
      "text/plain": [
       "<Figure size 1500x500 with 1 Axes>"
      ]
     },
     "metadata": {},
     "output_type": "display_data"
    }
   ],
   "source": [
    "def show_plot(x, y, best_model):\n",
    "\tnew_x = np.arange(len(x), len(x) + 1 * 13)\n",
    "\tpredicted_prices = best_model(new_x)\n",
    "\n",
    "\tplt.figure(figsize=(15, 5))\n",
    "\n",
    "\tx_fit = np.linspace(0, len(x) + 1 * 13 - 1, 1000)\n",
    "\ty_fit = best_model(x_fit)\n",
    "\n",
    "\tplt.plot(x, y, label=\"Actual Prices\", color='blue', linestyle='-', marker='o')\n",
    "\tplt.plot(x_fit, y_fit, label=f\"Polynomial Fit Degree {degrees[best_idx]}\", color='green', linestyle='--')\n",
    "\tplt.plot(new_x, predicted_prices, label=\"Predicted Prices (Next Day)\", color='red', linestyle='-', marker='x')\n",
    "\n",
    "\tplt.xlabel('Days (13 data points each, every 30 mins)')\n",
    "\tplt.ylabel('Opening Price (USD)')\n",
    "\tplt.legend()\n",
    "\tplt.grid(True)\n",
    "\n",
    "\ttick_positions = [0, 13, 26, 39, 52, 65, 78]\n",
    "\ttick_labels = ['0', '1', '2', '3', '4', '5', '6']\n",
    "\n",
    "\tplt.xticks(tick_positions, tick_labels)\n",
    "\tplt.show()\n",
    "\n",
    "show_plot(x, y, best_model)"
   ]
  },
  {
   "cell_type": "markdown",
   "id": "ca47720d",
   "metadata": {},
   "source": [
    "#### Πώς η επιλογή διαφορετικών βαθμών πολυωνύμων μπορεί να επηρεάσει την ποιότητα πρόβλεψης;\n",
    " - Χαμηλός βαθμός πολυωνύμου (π.χ. 1) προσφέρει μια πολύ απλή πρόβλεψη, η οποία όμως μπορεί να χάνει καμπύλες τάσεις. Είναι πιο σταθερή αλλά ενδεχομένως να είναι ανακριβής.\n",
    " - Υψηλός βαθμός πολυωνύμου (π.χ. 3) μπορεί να ταιριάξει καλύτερα με τα δεδομένα, αλλά ενδεχομένως να έχει μεγαλύτερη αστάθεια εκτός του training set (overfitting).\n",
    "#### Πώς μπορούμε να εντοπίσουμε αν η πρόβλεψη είναι ασταθής;\n",
    "Αν το πολυώνυμο έχει απότομες αυξομειώσεις εκτός των δεδομένων ή αν οι τιμές της πρόβλεψης γίνονται παράλογες είναι ένδειξη ότι η πρόβλεψη είναι ασταθής. Κάτι που ενδέχεται να φανεί και στη γραφική παράσταση."
   ]
  },
  {
   "cell_type": "markdown",
   "id": "73d22a87",
   "metadata": {},
   "source": [
    "## 4. Ολοκλήρωση της Καμπύλης Τιμών για Μέση Τιμή"
   ]
  },
  {
   "cell_type": "code",
   "execution_count": null,
   "id": "f37be6af",
   "metadata": {},
   "outputs": [
    {
     "data": {
      "text/markdown": [
       "**Area and Mean Value by method:**\n",
       "\n",
       "| Method         |       Area |   Mean Value |\n",
       "|:---------------|-----------:|-------------:|\n",
       "| Trapezoid Rule | 28803.6217 |     443.1326 |\n",
       "| Simpson's Rule | 28802.3320 |     443.1128 |"
      ],
      "text/plain": [
       "<IPython.core.display.Markdown object>"
      ]
     },
     "metadata": {},
     "output_type": "display_data"
    }
   ],
   "source": [
    "def trapezoid_rule_area(y, h = 1):\n",
    "\ttrapezoid_area = 0.0\n",
    "\n",
    "\tfor i in range(len(y) - 1):\n",
    "\t\ttrapezoid_area += (y[i] + y[i + 1]) * h / 2\n",
    "\n",
    "\treturn trapezoid_area\n",
    "\n",
    "def simpson_rule_area(y, h = 1):\n",
    "\tn = len(y)\n",
    "\n",
    "\tif n < 3: raise ValueError\n",
    "\n",
    "\tif n % 2 == 0:\n",
    "\t\tn -= 1\n",
    "\t\tprint(\"[INFO] Simpson Rule Calculation needs odd amount of entries. Discarding the last value.\")\n",
    "\t\n",
    "\tsimpson_area = y[0] + y[n - 1]\n",
    "\t\n",
    "\tfor i in range(1, n-1, 2):\n",
    "\t\tsimpson_area+= 4 * y[i]\n",
    "\n",
    "\tfor i in range(2, n-2, 2):\n",
    "\t\tsimpson_area+= 2 * y[i]\n",
    "\t\n",
    "\t area = (h / 3) * simpson_sum\n",
    "\treturn simpson_area, n\n",
    "\n",
    "simpson_ret, simpson_len = simpson_rule_area(y)\n",
    "simpson_mean_value = simpson_ret / simpson_len\n",
    "trapezoid_mean_value = trapezoid_rule_area(y) / (len(y))\n",
    "\n",
    "df = pd.DataFrame({\n",
    "\t\"Method\": [\"Trapezoid Rule\", \"Simpson's Rule\"],\n",
    "\t\"Area\": [trapezoid_rule_area(y), simpson_ret],\n",
    "\t\"Mean Value\": [trapezoid_mean_value, simpson_mean_value],\n",
    "})\n",
    "\n",
    "title = \"**Area and Mean Value by method:**\"\n",
    "md_table = df.to_markdown(index=False, floatfmt=\".4f\")\n",
    "display(Markdown(f\"{title}\\n\\n{md_table}\"))"
   ]
  },
  {
   "cell_type": "code",
   "execution_count": null,
   "id": "0cbac5d0",
   "metadata": {},
   "outputs": [
    {
     "data": {
      "text/markdown": [
       "**Mean value of each model, by degree:**\n",
       "\n",
       "|   Degree |     Area |\n",
       "|---------:|---------:|\n",
       "|        1 | 451.3361 |\n",
       "|        2 | 450.9016 |\n",
       "|        3 | 450.7157 |"
      ],
      "text/plain": [
       "<IPython.core.display.Markdown object>"
      ]
     },
     "metadata": {},
     "output_type": "display_data"
    },
    {
     "data": {
      "text/markdown": [
       "**Mean value of the cubic model, by step size:**\n",
       "\n",
       "|   Step Size |     Area |\n",
       "|------------:|---------:|\n",
       "|           2 | 448.4147 |\n",
       "|           4 | 450.4600 |\n",
       "|           6 | 450.6236 |\n",
       "|           8 | 450.6687 |\n",
       "|          10 | 450.6873 |\n",
       "|          12 | 450.6967 |\n",
       "|          14 | 450.7021 |\n",
       "|          16 | 450.7054 |\n",
       "|          18 | 450.7077 |\n",
       "|          20 | 450.7093 |"
      ],
      "text/plain": [
       "<IPython.core.display.Markdown object>"
      ]
     },
     "metadata": {},
     "output_type": "display_data"
    }
   ],
   "source": [
    "def trapezoid_rule_func(y, step_count, a, b):\n",
    "\tif step_count<3: raise ValueError\n",
    "\tx_data = np.linspace(a, b, step_count)\n",
    "\ty_data = y(x_data)\n",
    "\th = (b - a) / (step_count - 1)\n",
    "\n",
    "\tmean = trapezoid_rule_area(y_data, h) / (b - a)\n",
    "\treturn mean\n",
    "\n",
    "model_area = []\n",
    "for i in range(len(models)):\n",
    "\tmodel_area.append(trapezoid_rule_func(models[i], 1000, 0, len(y)))\n",
    "\n",
    "df = pd.DataFrame({\n",
    "\t\"Degree\": degrees,\n",
    "\t\"Area\": model_area,\n",
    "})\n",
    "\n",
    "df[\"Degree\"] = df[\"Degree\"].astype(str)\n",
    "\n",
    "title = \"**Mean value of each model, by degree:**\"\n",
    "md_table = df.to_markdown(index=False, floatfmt=\".4f\")\n",
    "display(Markdown(f\"{title}\\n\\n{md_table}\"))\n",
    "\n",
    "model_area = []\n",
    "idx = []\n",
    "for i in range(2, 22, 2):\n",
    "\tmodel_area.append(trapezoid_rule_func(models[2], i, 0, len(y)))\n",
    "\tidx.append(i)\n",
    "\n",
    "df = pd.DataFrame({\n",
    "\t\"Step Size\": idx,\n",
    "\t\"Area\": model_area,\n",
    "})\n",
    "\n",
    "df[\"Step Size\"] = df[\"Step Size\"].astype(str)\n",
    "\n",
    "title = \"**Mean value of the cubic model, by step size:**\"\n",
    "md_table = df.to_markdown(index=False, floatfmt=\".4f\")\n",
    "display(Markdown(f\"{title}\\n\\n{md_table}\"))"
   ]
  },
  {
   "cell_type": "markdown",
   "id": "fd2ce76f",
   "metadata": {},
   "source": [
    "#### Επίδραση του βήματος στην ακρίβεια της αριθμητικής ολοκλήρωσης\n",
    "Μικρότερα βήματα στην αριθμητική ολοκλήρωση οδηγούν σε μεγαλύτερη ακρίβεια επειδή προσεγγίζουν καλύτερα την καμπύλη της συνάρτησης. Το σφάλμα μειώνεται ταχύτερα στον κανόνα του Simpson ($h^4$) σε σχέση με τον κανόνα του Τραπεζίου ($h^2$). Παραθέτοντας:\n",
    "\n",
    "Σφάλμα Κανόνα του Simpson:\n",
    "$$ E_S = \\frac{(\\frac{h}{2})^4}{180} (\\beta - \\alpha) f^{(4)} (z),\\ \\alpha < z < \\beta$$\n",
    "\n",
    "Σφάλμα Κανόνα του Τραπεζίου:\n",
    "$$ E_T = - \\frac{h^2}{12} (\\beta - \\alpha) f^{''}(z),\\ \\alpha < z < \\beta$$"
   ]
  },
  {
   "cell_type": "markdown",
   "id": "4f6a7ab7",
   "metadata": {},
   "source": [
    "## 5. Ανίχνευση Ανωμαλιών στα Ιστορικά Δεδομένα"
   ]
  },
  {
   "cell_type": "code",
   "execution_count": 79,
   "id": "fd16b921",
   "metadata": {},
   "outputs": [
    {
     "data": {
      "text/markdown": [
       "**Predicted Values by Aitken-Neville and Newton Divided Differences Methods:**\n",
       "\n",
       "|   x_pred |   y_true |   Aitken |   Newton |   Error Aitken |   Error Newton |   Delta |\n",
       "|---------:|---------:|---------:|---------:|---------------:|---------------:|--------:|\n",
       "|        5 | 443.3500 | 459.8751 | 459.8751 |        16.5251 |        16.5251 |  1.0057 |\n",
       "|       10 | 447.9250 | 451.7744 | 451.7744 |         3.8494 |         3.8494 |  0.8715 |\n",
       "|       15 | 448.7800 | 449.9999 | 449.9999 |         1.2199 |         1.2199 |  0.5780 |\n",
       "|       20 | 448.7000 | 450.0298 | 450.0298 |         1.3298 |         1.3298 |  0.2446 |\n",
       "|       25 | 449.3900 | 456.9970 | 456.9970 |         7.6070 |         7.6070 |  0.2930 |\n",
       "|       30 | 452.7100 | 476.1399 | 476.1399 |        23.4299 |        23.4299 |  1.2952 |\n",
       "|       35 | 451.3000 | 451.9631 | 451.9631 |         0.6631 |         0.6631 |  0.4799 |\n",
       "|       40 | 453.0900 | 453.6250 | 453.6250 |         0.5350 |         0.5350 |  0.2358 |\n",
       "|       45 | 455.2500 | 443.0900 | 443.0900 |        12.1600 |        12.1600 |  0.5804 |\n",
       "|       50 | 453.0800 | 461.7257 | 461.7257 |         8.6457 |         8.6457 |  0.5715 |\n",
       "|       55 | 450.0000 | 467.3300 | 467.3300 |        17.3300 |        17.3300 |  0.8444 |\n",
       "|       60 | 450.6300 | 443.0002 | 443.0002 |         7.6298 |         7.6298 |  0.2199 |"
      ],
      "text/plain": [
       "<IPython.core.display.Markdown object>"
      ]
     },
     "metadata": {},
     "output_type": "display_data"
    }
   ],
   "source": [
    "def aitken_neville(x, f, pred):\n",
    "\tn = len(x)\n",
    "\tA = [[0] * n for _ in range(n)]\n",
    "\n",
    "\tfor i in range(n):\n",
    "\t\tA[i][0] = f[i]\n",
    "\n",
    "\tfor j in range(1, n):\n",
    "\t\tfor i in range(j, n):\n",
    "\t\t\tnumerator = (x[j - 1] - pred) * A[i][j - 1] - (x[i] - pred) * A[j - 1][j - 1]\n",
    "\t\t\tdenominator = x[j - 1] - x[i]\n",
    "\t\t\tA[i][j] = numerator / denominator\n",
    "\t\n",
    "\treturn A[n - 1][n - 1]\n",
    "\n",
    "def divided_differences(x, f):\n",
    "\tn = len(x)\n",
    "\tdd_table = [[0] * n for _ in range(n)]\n",
    "\n",
    "\t# Πρώτη στήλη = τιμές f\n",
    "\tfor i in range(n):\n",
    "\t\tdd_table[i][0] = f[i]\n",
    "\n",
    "\t# Υπολογισμός των διηρημένων διαφορών\n",
    "\tfor j in range(1, n):\n",
    "\t\tfor i in range(n - j):\n",
    "\t\t\tnumerator = dd_table[i + 1][j - 1] - dd_table[i][j - 1]\n",
    "\t\t\tdenominator = x[i + j] - x[i]\n",
    "\t\t\tdd_table[i][j] = numerator / denominator\n",
    "\n",
    "\treturn [dd_table[0][j] for j in range(n)]\n",
    "\n",
    "def newton_predict(x_data, coeffs, x_pred):\n",
    "\tn = len(coeffs)\n",
    "\tresult = coeffs[0]\n",
    "\tproduct = 1.0\n",
    "\n",
    "\tfor i in range(1, n):\n",
    "\t\tproduct *= (x_pred - x_data[i - 1])\n",
    "\t\tresult += coeffs[i] * product\n",
    "\n",
    "\treturn result\n",
    "\n",
    "def anomaly_detection(x, y):\n",
    "\twindow_size = 5\n",
    "\tresults = []\n",
    "\n",
    "\tfor i in range(0, len(x) - window_size, window_size):\n",
    "\t\tx_window = x[i:i + window_size]\n",
    "\t\ty_window = y[i:i + window_size]\n",
    "\n",
    "\t\tx_pred = x[i + window_size]\n",
    "\n",
    "\t\ty_true = y[i + window_size]\n",
    "\n",
    "\t\ty_aitken = aitken_neville(x_window, y_window, x_pred)\n",
    "\t\tcoeffs = divided_differences(x_window, y_window)\n",
    "\t\ty_newton = newton_predict(x_window, coeffs, x_pred)\n",
    "\n",
    "\t\terror_aitken = abs(y_aitken - y_true)\n",
    "\t\terror_newton = abs(y_newton - y_true)\n",
    "\n",
    "\t\trange_val = np.max(y_window) - np.min(y_window)\n",
    "\t\tstd_val = np.std(y_window)\n",
    "\t\tdelta = 0.05 * range_val + 0.5 * std_val\n",
    "\n",
    "\t\tresults.append({\n",
    "\t\t\t\"x_pred\": x_pred,\n",
    "\t\t\t\"y_true\": y_true,\n",
    "\t\t\t\"Aitken\": y_aitken,\n",
    "\t\t\t\"Newton\": y_newton,\n",
    "\t\t\t\"Error Aitken\": error_aitken,\n",
    "\t\t\t\"Error Newton\": error_newton,\n",
    "\t\t\t\"Delta\": delta,\n",
    "\t\t})\n",
    "\n",
    "\treturn results\n",
    "\n",
    "res = anomaly_detection(x, y)\n",
    "df = pd.DataFrame(res)\n",
    "\n",
    "df[\"x_pred\"] = df[\"x_pred\"].astype(str)\n",
    "title = \"**Predicted Values by Aitken-Neville and Newton Divided Differences Methods:**\"\n",
    "md_table = df.to_markdown(index=False, floatfmt=\".4f\")\n",
    "display(Markdown(f\"{title}\\n\\n{md_table}\"))"
   ]
  },
  {
   "cell_type": "markdown",
   "id": "14e2b64e",
   "metadata": {},
   "source": [
    "#### Σύγκριση πρόβλεψης με πραγματική τιμή\n",
    "\n",
    "Η πρόβλεψη της επόμενης τιμής με τις μεθόδους Aitken-Neville και Διηρημένων Διαφορών του Newton συγκρίθηκε με την πραγματική τιμή που δίνει το dataset. Στις περισσότερες περιπτώσεις, οι δύο μέθοδοι δίνουν σχεδόν ταυτόσημα αποτελέσματα, καθώς βασίζονται στα ίδια σημεία και παράγουν το ίδιο παρεμβολικό πολυώνυμο.\n",
    "\n",
    "Παρατηρείται όμως ότι, παρά την ακρίβεια της πρόβλεψης (π.χ. μικρό σφάλμα 1–2 μονάδων), οι τιμές αυτές καταγράφονται ως ανωμαλίες. Αυτό οφείλεται στο ότι το δυναμικά καθοριζόμενο κατώφλι, δ, που χρησιμοποιείται για την ανίχνευση ανωμαλιών είναι πολύ μικρό σε σταθερά σύνολα δεδομένων, προκαλώντας υπερευαισθησία του συστήματος. Επομένως, είναι σημαντικό να αξιολογείται η σχέση του σφάλματος με τη μεταβλητότητα των δεδομένων για να αποφεύγονται ψευδώς θετικές ανωμαλίες.\n",
    "\n",
    "#### Επίδραση της μεταβλητότητας στον καθορισμό του κατωφλίου\n",
    "\n",
    "Το κατώφλι ανωμαλίας καθορίζεται δυναμικά με τον τύπο:  \n",
    "$$δ=0.05⋅Range+0.5⋅σ$$\n",
    "\n",
    "Ο τύπος αυτός εξασφαλίζει ότι το κατώφλι αυξάνεται όταν τα δεδομένα παρουσιάζουν μεγάλη μεταβλητότητα, και μειώνεται όταν είναι σταθερά. Αυτό είναι απαραίτητο, γιατί σε ευμετάβλητα σύνολα (π.χ. μετοχές με απότομες διακυμάνσεις), τα σφάλματα πρόβλεψης μπορεί να είναι μεγαλύτερα χωρίς να σημαίνουν ανωμαλία. Αντίθετα, σε σταθερά δεδομένα, ακόμα και μια μικρή απόκλιση από την προβλεπόμενη τιμή μπορεί να αποτελεί ένδειξη ανωμαλίας. Ένα σταθερό (μη δυναμικό) κατώφλι ενδέχεται είτε να καταγράφει πολλές ψευδείς ανωμαλίες (υπερευαισθησία) είτε να αποτυγχάνει να εντοπίσει τις πραγματικές (αναξιοπιστία). Συνεπώς, η χρήση ενός κατωφλίου βασισμένου στη μεταβλητότητα επιτρέπει στο σύστημα να προσαρμόζεται στις ιδιαιτερότητες των δεδομένων, αποφεύγοντας την υπερανίχνευση ή την απώλεια πραγματικών ανωμαλιών."
   ]
  }
 ],
 "metadata": {
  "kernelspec": {
   "display_name": ".venv",
   "language": "python",
   "name": "python3"
  },
  "language_info": {
   "codemirror_mode": {
    "name": "ipython",
    "version": 3
   },
   "file_extension": ".py",
   "mimetype": "text/x-python",
   "name": "python",
   "nbconvert_exporter": "python",
   "pygments_lexer": "ipython3",
   "version": "3.13.3"
  }
 },
 "nbformat": 4,
 "nbformat_minor": 5
}
